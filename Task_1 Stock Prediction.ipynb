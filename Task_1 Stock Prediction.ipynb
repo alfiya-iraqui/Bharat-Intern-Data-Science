{
  "cells": [
    {
      "cell_type": "markdown",
      "metadata": {},
      "source": [
        "# DATA SCIENCE INTERN @BHARAT INTERN\n",
        "\n",
        "## Task1: Stock Prediction of Amazon."
      ]
    },
    {
      "cell_type": "markdown",
      "metadata": {},
      "source": [
        "### Name : Alfiya Iraqui"
      ]
    },
    {
      "cell_type": "markdown",
      "metadata": {},
      "source": [
        "## Importing dependencies"
      ]
    },
    {
      "cell_type": "code",
      "execution_count": 1,
      "id": "2f08bddd",
      "metadata": {
        "id": "2f08bddd"
      },
      "outputs": [],
      "source": [
        "import numpy as np\n",
        "import pandas as pd\n",
        "from sklearn.preprocessing import MinMaxScaler\n",
        "from keras.models import Sequential\n",
        "from keras.layers import LSTM, Dense\n",
        "import matplotlib.pyplot as plt"
      ]
    },
    {
      "cell_type": "code",
      "execution_count": 2,
      "id": "6b42a5dc",
      "metadata": {
        "id": "6b42a5dc"
      },
      "outputs": [],
      "source": [
        "data = pd.read_csv('AMZN.csv')\n",
        "data = data['Close'].values.reshape(-1, 1)\n",
        "scaler = MinMaxScaler(feature_range=(0, 1))\n",
        "data = scaler.fit_transform(data)"
      ]
    },
    {
      "cell_type": "code",
      "execution_count": 3,
      "id": "2a5a4fdc",
      "metadata": {
        "id": "2a5a4fdc"
      },
      "outputs": [],
      "source": [
        "X = []\n",
        "y = []\n",
        "for i in range(60, len(data)):\n",
        "    X.append(data[i-60:i, 0])\n",
        "    y.append(data[i, 0])\n",
        "X = np.array(X)\n",
        "y = np.array(y)\n",
        "X = np.reshape(X, (X.shape[0], X.shape[1], 1))"
      ]
    },
    {
      "cell_type": "code",
      "execution_count": 4,
      "id": "40267584",
      "metadata": {
        "colab": {
          "base_uri": "https://localhost:8080/"
        },
        "id": "40267584",
        "outputId": "5baec8f9-e121-466c-aacc-a47cae93a4c0"
      },
      "outputs": [
        {
          "name": "stdout",
          "output_type": "stream",
          "text": [
            "Epoch 1/100\n",
            "6/6 [==============================] - 3s 33ms/step - loss: 0.1436\n",
            "Epoch 2/100\n",
            "6/6 [==============================] - 0s 31ms/step - loss: 0.0380\n",
            "Epoch 3/100\n",
            "6/6 [==============================] - 0s 32ms/step - loss: 0.0163\n",
            "Epoch 4/100\n",
            "6/6 [==============================] - 0s 31ms/step - loss: 0.0189\n",
            "Epoch 5/100\n",
            "6/6 [==============================] - 0s 29ms/step - loss: 0.0113\n",
            "Epoch 6/100\n",
            "6/6 [==============================] - 0s 27ms/step - loss: 0.0117\n",
            "Epoch 7/100\n",
            "6/6 [==============================] - 0s 27ms/step - loss: 0.0092\n",
            "Epoch 8/100\n",
            "6/6 [==============================] - 0s 25ms/step - loss: 0.0086\n",
            "Epoch 9/100\n",
            "6/6 [==============================] - 0s 24ms/step - loss: 0.0073\n",
            "Epoch 10/100\n",
            "6/6 [==============================] - 0s 25ms/step - loss: 0.0070\n",
            "Epoch 11/100\n",
            "6/6 [==============================] - 0s 27ms/step - loss: 0.0069\n",
            "Epoch 12/100\n",
            "6/6 [==============================] - 0s 25ms/step - loss: 0.0065\n",
            "Epoch 13/100\n",
            "6/6 [==============================] - 0s 26ms/step - loss: 0.0065\n",
            "Epoch 14/100\n",
            "6/6 [==============================] - 0s 24ms/step - loss: 0.0061\n",
            "Epoch 15/100\n",
            "6/6 [==============================] - 0s 25ms/step - loss: 0.0059\n",
            "Epoch 16/100\n",
            "6/6 [==============================] - 0s 24ms/step - loss: 0.0057\n",
            "Epoch 17/100\n",
            "6/6 [==============================] - 0s 25ms/step - loss: 0.0055\n",
            "Epoch 18/100\n",
            "6/6 [==============================] - 0s 26ms/step - loss: 0.0054\n",
            "Epoch 19/100\n",
            "6/6 [==============================] - 0s 26ms/step - loss: 0.0052\n",
            "Epoch 20/100\n",
            "6/6 [==============================] - 0s 24ms/step - loss: 0.0051\n",
            "Epoch 21/100\n",
            "6/6 [==============================] - 0s 24ms/step - loss: 0.0051\n",
            "Epoch 22/100\n",
            "6/6 [==============================] - 0s 24ms/step - loss: 0.0050\n",
            "Epoch 23/100\n",
            "6/6 [==============================] - 0s 24ms/step - loss: 0.0048\n",
            "Epoch 24/100\n",
            "6/6 [==============================] - 0s 25ms/step - loss: 0.0050\n",
            "Epoch 25/100\n",
            "6/6 [==============================] - 0s 25ms/step - loss: 0.0049\n",
            "Epoch 26/100\n",
            "6/6 [==============================] - 0s 27ms/step - loss: 0.0047\n",
            "Epoch 27/100\n",
            "6/6 [==============================] - 0s 27ms/step - loss: 0.0047\n",
            "Epoch 28/100\n",
            "6/6 [==============================] - 0s 24ms/step - loss: 0.0046\n",
            "Epoch 29/100\n",
            "6/6 [==============================] - 0s 24ms/step - loss: 0.0045\n",
            "Epoch 30/100\n",
            "6/6 [==============================] - 0s 25ms/step - loss: 0.0045\n",
            "Epoch 31/100\n",
            "6/6 [==============================] - 0s 25ms/step - loss: 0.0044\n",
            "Epoch 32/100\n",
            "6/6 [==============================] - 0s 26ms/step - loss: 0.0043\n",
            "Epoch 33/100\n",
            "6/6 [==============================] - 0s 26ms/step - loss: 0.0043\n",
            "Epoch 34/100\n",
            "6/6 [==============================] - 0s 29ms/step - loss: 0.0044\n",
            "Epoch 35/100\n",
            "6/6 [==============================] - 0s 25ms/step - loss: 0.0044\n",
            "Epoch 36/100\n",
            "6/6 [==============================] - 0s 25ms/step - loss: 0.0043\n",
            "Epoch 37/100\n",
            "6/6 [==============================] - 0s 24ms/step - loss: 0.0042\n",
            "Epoch 38/100\n",
            "6/6 [==============================] - 0s 25ms/step - loss: 0.0042\n",
            "Epoch 39/100\n",
            "6/6 [==============================] - 0s 25ms/step - loss: 0.0042\n",
            "Epoch 40/100\n",
            "6/6 [==============================] - 0s 25ms/step - loss: 0.0041\n",
            "Epoch 41/100\n",
            "6/6 [==============================] - 0s 25ms/step - loss: 0.0042\n",
            "Epoch 42/100\n",
            "6/6 [==============================] - 0s 27ms/step - loss: 0.0041\n",
            "Epoch 43/100\n",
            "6/6 [==============================] - 0s 25ms/step - loss: 0.0039\n",
            "Epoch 44/100\n",
            "6/6 [==============================] - 0s 25ms/step - loss: 0.0039\n",
            "Epoch 45/100\n",
            "6/6 [==============================] - 0s 24ms/step - loss: 0.0038\n",
            "Epoch 46/100\n",
            "6/6 [==============================] - 0s 24ms/step - loss: 0.0038\n",
            "Epoch 47/100\n",
            "6/6 [==============================] - 0s 25ms/step - loss: 0.0039\n",
            "Epoch 48/100\n",
            "6/6 [==============================] - 0s 25ms/step - loss: 0.0039\n",
            "Epoch 49/100\n",
            "6/6 [==============================] - 0s 27ms/step - loss: 0.0038\n",
            "Epoch 50/100\n",
            "6/6 [==============================] - 0s 24ms/step - loss: 0.0036\n",
            "Epoch 51/100\n",
            "6/6 [==============================] - 0s 26ms/step - loss: 0.0036\n",
            "Epoch 52/100\n",
            "6/6 [==============================] - 0s 25ms/step - loss: 0.0036\n",
            "Epoch 53/100\n",
            "6/6 [==============================] - 0s 25ms/step - loss: 0.0036\n",
            "Epoch 54/100\n",
            "6/6 [==============================] - 0s 27ms/step - loss: 0.0035\n",
            "Epoch 55/100\n",
            "6/6 [==============================] - 0s 27ms/step - loss: 0.0036\n",
            "Epoch 56/100\n",
            "6/6 [==============================] - 0s 25ms/step - loss: 0.0036\n",
            "Epoch 57/100\n",
            "6/6 [==============================] - 0s 25ms/step - loss: 0.0038\n",
            "Epoch 58/100\n",
            "6/6 [==============================] - 0s 25ms/step - loss: 0.0039\n",
            "Epoch 59/100\n",
            "6/6 [==============================] - 0s 28ms/step - loss: 0.0037\n",
            "Epoch 60/100\n",
            "6/6 [==============================] - 0s 27ms/step - loss: 0.0035\n",
            "Epoch 61/100\n",
            "6/6 [==============================] - 0s 25ms/step - loss: 0.0035\n",
            "Epoch 62/100\n",
            "6/6 [==============================] - 0s 25ms/step - loss: 0.0047\n",
            "Epoch 63/100\n",
            "6/6 [==============================] - 0s 25ms/step - loss: 0.0044\n",
            "Epoch 64/100\n",
            "6/6 [==============================] - 0s 28ms/step - loss: 0.0039\n",
            "Epoch 65/100\n",
            "6/6 [==============================] - 0s 26ms/step - loss: 0.0036\n",
            "Epoch 66/100\n",
            "6/6 [==============================] - 0s 27ms/step - loss: 0.0033\n",
            "Epoch 67/100\n",
            "6/6 [==============================] - 0s 27ms/step - loss: 0.0034\n",
            "Epoch 68/100\n",
            "6/6 [==============================] - 0s 28ms/step - loss: 0.0032\n",
            "Epoch 69/100\n",
            "6/6 [==============================] - 0s 25ms/step - loss: 0.0031\n",
            "Epoch 70/100\n",
            "6/6 [==============================] - 0s 28ms/step - loss: 0.0032\n",
            "Epoch 71/100\n",
            "6/6 [==============================] - 0s 25ms/step - loss: 0.0031\n",
            "Epoch 72/100\n",
            "6/6 [==============================] - 0s 28ms/step - loss: 0.0032\n",
            "Epoch 73/100\n",
            "6/6 [==============================] - 0s 27ms/step - loss: 0.0032\n",
            "Epoch 74/100\n",
            "6/6 [==============================] - 0s 24ms/step - loss: 0.0030\n",
            "Epoch 75/100\n",
            "6/6 [==============================] - 0s 23ms/step - loss: 0.0030\n",
            "Epoch 76/100\n",
            "6/6 [==============================] - 0s 25ms/step - loss: 0.0030\n",
            "Epoch 77/100\n",
            "6/6 [==============================] - 0s 28ms/step - loss: 0.0029\n",
            "Epoch 78/100\n",
            "6/6 [==============================] - 0s 25ms/step - loss: 0.0029\n",
            "Epoch 79/100\n",
            "6/6 [==============================] - 0s 28ms/step - loss: 0.0030\n",
            "Epoch 80/100\n",
            "6/6 [==============================] - 0s 26ms/step - loss: 0.0029\n",
            "Epoch 81/100\n",
            "6/6 [==============================] - 0s 25ms/step - loss: 0.0029\n",
            "Epoch 82/100\n",
            "6/6 [==============================] - 0s 27ms/step - loss: 0.0028\n",
            "Epoch 83/100\n",
            "6/6 [==============================] - 0s 25ms/step - loss: 0.0030\n",
            "Epoch 84/100\n",
            "6/6 [==============================] - 0s 24ms/step - loss: 0.0028\n",
            "Epoch 85/100\n",
            "6/6 [==============================] - 0s 26ms/step - loss: 0.0028\n",
            "Epoch 86/100\n",
            "6/6 [==============================] - 0s 27ms/step - loss: 0.0032\n",
            "Epoch 87/100\n",
            "6/6 [==============================] - 0s 24ms/step - loss: 0.0028\n",
            "Epoch 88/100\n",
            "6/6 [==============================] - 0s 24ms/step - loss: 0.0026\n",
            "Epoch 89/100\n",
            "6/6 [==============================] - 0s 31ms/step - loss: 0.0026\n",
            "Epoch 90/100\n",
            "6/6 [==============================] - 0s 31ms/step - loss: 0.0025\n",
            "Epoch 91/100\n",
            "6/6 [==============================] - 0s 33ms/step - loss: 0.0027\n",
            "Epoch 92/100\n",
            "6/6 [==============================] - 0s 30ms/step - loss: 0.0027\n",
            "Epoch 93/100\n",
            "6/6 [==============================] - 0s 35ms/step - loss: 0.0025\n",
            "Epoch 94/100\n",
            "6/6 [==============================] - 0s 28ms/step - loss: 0.0025\n",
            "Epoch 95/100\n",
            "6/6 [==============================] - 0s 31ms/step - loss: 0.0026\n",
            "Epoch 96/100\n",
            "6/6 [==============================] - 0s 30ms/step - loss: 0.0028\n",
            "Epoch 97/100\n",
            "6/6 [==============================] - 0s 28ms/step - loss: 0.0028\n",
            "Epoch 98/100\n",
            "6/6 [==============================] - 0s 31ms/step - loss: 0.0029\n",
            "Epoch 99/100\n",
            "6/6 [==============================] - 0s 29ms/step - loss: 0.0024\n",
            "Epoch 100/100\n",
            "6/6 [==============================] - 0s 28ms/step - loss: 0.0026\n"
          ]
        },
        {
          "data": {
            "text/plain": [
              "<keras.src.callbacks.History at 0x1f361b76c90>"
            ]
          },
          "execution_count": 4,
          "metadata": {},
          "output_type": "execute_result"
        }
      ],
      "source": [
        "model = Sequential()\n",
        "model.add(LSTM(units=50, return_sequences=True, input_shape=(X.shape[1], 1)))\n",
        "model.add(LSTM(units=50))\n",
        "model.add(Dense(units=1))\n",
        "model.compile(optimizer='adam', loss='mean_squared_error')\n",
        "model.fit(X, y, epochs=100, batch_size=32)"
      ]
    },
    {
      "cell_type": "code",
      "execution_count": 5,
      "id": "07963abd",
      "metadata": {
        "colab": {
          "base_uri": "https://localhost:8080/"
        },
        "id": "07963abd",
        "outputId": "9be1b3ca-58c3-41a7-bed9-4976be9723fb"
      },
      "outputs": [
        {
          "name": "stdout",
          "output_type": "stream",
          "text": [
            "6/6 [==============================] - 1s 12ms/step\n"
          ]
        }
      ],
      "source": [
        "predictions = model.predict(X)\n",
        "predictions = scaler.inverse_transform(predictions)"
      ]
    },
    {
      "cell_type": "code",
      "execution_count": 6,
      "id": "1abf8258",
      "metadata": {
        "colab": {
          "base_uri": "https://localhost:8080/",
          "height": 472
        },
        "id": "1abf8258",
        "outputId": "438a4c18-a28a-4aad-f8c4-1476e1855265"
      },
      "outputs": [
        {
          "data": {
            "image/png": "[encoded data removed]",
            "text/plain": [
              "<Figure size 640x480 with 1 Axes>"
            ]
          },
          "metadata": {},
          "output_type": "display_data"
        }
      ],
      "source": [
        "plt.plot(data, color='blue', label='Actual Amazon Stock Price')\n",
        "plt.plot(predictions, color='red', label='Predicted Amazon Stock Price')\n",
        "plt.title('Amazon Stock Price Prediction')\n",
        "plt.xlabel('Time')\n",
        "plt.ylabel('Amazon Stock Price')\n",
        "plt.legend()\n",
        "plt.show()"
      ]
    },
    {
      "cell_type": "code",
      "execution_count": 8,
      "id": "ab30cd62",
      "metadata": {
        "colab": {
          "base_uri": "https://localhost:8080/"
        },
        "id": "ab30cd62",
        "outputId": "4aa0d890-747e-45e0-b331-b3f639e3f34c"
      },
      "outputs": [
        {
          "name": "stdout",
          "output_type": "stream",
          "text": [
            "1/1 [==============================] - 1s 691ms/step\n",
            "1/1 [==============================] - 0s 24ms/step\n",
            "1/1 [==============================] - 0s 22ms/step\n",
            "1/1 [==============================] - 0s 21ms/step\n",
            "1/1 [==============================] - 0s 20ms/step\n",
            "1/1 [==============================] - 0s 20ms/step\n",
            "1/1 [==============================] - 0s 22ms/step\n",
            "1/1 [==============================] - 0s 21ms/step\n",
            "1/1 [==============================] - 0s 22ms/step\n",
            "1/1 [==============================] - 0s 20ms/step\n",
            "1/1 [==============================] - 0s 22ms/step\n",
            "1/1 [==============================] - 0s 26ms/step\n",
            "1/1 [==============================] - 0s 24ms/step\n",
            "1/1 [==============================] - 0s 23ms/step\n",
            "1/1 [==============================] - 0s 29ms/step\n",
            "1/1 [==============================] - 0s 23ms/step\n",
            "1/1 [==============================] - 0s 24ms/step\n",
            "1/1 [==============================] - 0s 27ms/step\n",
            "1/1 [==============================] - 0s 24ms/step\n",
            "1/1 [==============================] - 0s 30ms/step\n",
            "1/1 [==============================] - 0s 29ms/step\n",
            "1/1 [==============================] - 0s 21ms/step\n",
            "1/1 [==============================] - 0s 20ms/step\n",
            "1/1 [==============================] - 0s 20ms/step\n",
            "1/1 [==============================] - 0s 22ms/step\n",
            "1/1 [==============================] - 0s 25ms/step\n",
            "1/1 [==============================] - 0s 32ms/step\n",
            "1/1 [==============================] - 0s 25ms/step\n",
            "1/1 [==============================] - 0s 23ms/step\n",
            "1/1 [==============================] - 0s 25ms/step\n"
          ]
        }
      ],
      "source": [
        "future_predictions = []\n",
        "for i in range(30):\n",
        "    prediction = model.predict(future_X)\n",
        "    future_predictions.append(prediction[0, 0])\n",
        "    prediction = np.reshape(prediction, (1, 1, 1))\n",
        "    future_X = np.append(future_X[:, 1:, :], prediction, axis=1)\n",
        "\n",
        "\n",
        "future_predictions = np.array(future_predictions).reshape(-1, 1)\n",
        "future_predictions = scaler.inverse_transform(future_predictions)"
      ]
    },
    {
      "cell_type": "code",
      "execution_count": 9,
      "id": "b6b5065b",
      "metadata": {
        "colab": {
          "base_uri": "https://localhost:8080/",
          "height": 472
        },
        "id": "b6b5065b",
        "outputId": "926bc818-e2d5-4c59-c6b7-25688c8fac48"
      },
      "outputs": [
        {
          "data": {
            "image/png": "[encoded data removed]",
            "text/plain": [
              "<Figure size 640x480 with 1 Axes>"
            ]
          },
          "metadata": {},
          "output_type": "display_data"
        }
      ],
      "source": [
        "plt.plot(future_predictions, color='green', label='Future Amazon Stock Price')\n",
        "plt.title('Amazon Stock Price Prediction')\n",
        "plt.xlabel('Time')\n",
        "plt.ylabel('Amazon Stock Price')\n",
        "plt.legend()\n",
        "plt.show()"
      ]
    },
    {
      "cell_type": "markdown",
      "metadata": {},
      "source": []
    }
  ],
  "metadata": {
    "colab": {
      "provenance": []
    },
    "kernelspec": {
      "display_name": "Python 3 (ipykernel)",
      "language": "python",
      "name": "python3"
    },
    "language_info": {
      "codemirror_mode": {
        "name": "ipython",
        "version": 3
      },
      "file_extension": ".py",
      "mimetype": "text/x-python",
      "name": "python",
      "nbconvert_exporter": "python",
      "pygments_lexer": "ipython3",
      "version": "3.11.2"
    }
  },
  "nbformat": 4,
  "nbformat_minor": 5
}
